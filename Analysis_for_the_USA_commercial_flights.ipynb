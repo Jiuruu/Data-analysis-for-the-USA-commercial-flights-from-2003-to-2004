{
 "cells": [
  {
   "cell_type": "markdown",
   "id": "5c005dbd",
   "metadata": {},
   "source": [
    "# Data analysis of the USA commercial flights arrival and departure details from 2003 to 2004"
   ]
  },
  {
   "cell_type": "markdown",
   "id": "f2c0fb6b",
   "metadata": {},
   "source": [
    "## Preamble: overview of the dataset"
   ]
  },
  {
   "cell_type": "markdown",
   "id": "7d2040c1",
   "metadata": {},
   "source": [
    "### First, we load the raw data and import the libraries"
   ]
  },
  {
   "cell_type": "code",
   "execution_count": null,
   "id": "db3f7ed6",
   "metadata": {},
   "outputs": [],
   "source": [
    "import pandas as pd\n",
    "import numpy as np\n",
    "import matplotlib.pyplot as plt\n",
    "import seaborn as sns\n",
    "\n",
    "from matplotlib.gridspec import GridSpec\n",
    "from matplotlib import rcParams\n",
    "\n",
    "import plotly.graph_objects as go\n",
    "\n",
    "from sklearn import metrics, linear_model\n",
    "from sklearn.ensemble import RandomForestClassifier\n",
    "from sklearn.metrics import precision_score\n",
    "from sklearn.metrics import confusion_matrix\n",
    "from sklearn.metrics import recall_score\n",
    "from sklearn.metrics import roc_curve\n",
    "from sklearn.preprocessing import PolynomialFeatures, StandardScaler\n",
    "from sklearn.preprocessing import LabelEncoder, OneHotEncoder\n",
    "from sklearn.model_selection import train_test_split, cross_val_score, cross_val_predict\n",
    "from scipy.optimize import curve_fit\n",
    "plt.rcParams[\"patch.force_edgecolor\"] = True\n",
    "plt.style.use('fivethirtyeight')\n",
    "\n",
    "from IPython.core.interactiveshell import InteractiveShell\n",
    "InteractiveShell.ast_node_interactivity = \"last_expr\"\n",
    "pd.options.display.max_columns = 50\n",
    "%matplotlib inline\n",
    "\n",
    "rename_week= {1:'Monday',2:'Tuesday',3:'Wednesday',4:'Thursday',5:'Friday',6:'Saturday',7:'Sunday'}\n",
    "rename_month={1:\"January\",2:\"February\",3:\"March\",4:\"April\",5:\"May\",6:\"June\",7:\"July\",8:\"August\",9:\"September\",10:\"October\",11:\"November\",12:\"December\"}"
   ]
  },
  {
   "cell_type": "code",
   "execution_count": null,
   "id": "babda159",
   "metadata": {},
   "outputs": [],
   "source": [
    "# Load flight_delays_2003 file\n",
    "flight_2003 = pd.read_csv(\"C:/Users/Administrator/Desktop/2003.csv\",na_values=['-'])  #missing values are marked '-'\n",
    "\n",
    "# Load flight_2004 file\n",
    "flight_2004 = pd.read_csv(\"C:/Users/Administrator/Desktop/2004.csv\",na_values=['-'])  #missing values are marked '-'"
   ]
  },
  {
   "cell_type": "code",
   "execution_count": null,
   "id": "1aa02eba",
   "metadata": {},
   "outputs": [],
   "source": [
    "# Combine the 2 dataframes using append() function\n",
    "df = flight_2003.append(flight_2004)\n",
    "display(df)"
   ]
  },
  {
   "cell_type": "code",
   "execution_count": null,
   "id": "567684ab",
   "metadata": {},
   "outputs": [],
   "source": [
    "# Load plane-data file\n",
    "planes = pd.read_csv(\"C:/Users/Administrator/Desktop/plane-data.csv\",na_values=['-'])  #missing values are marked '-'\n",
    "planes = planes[['tailnum','year']]\n",
    "\n",
    "planes"
   ]
  },
  {
   "cell_type": "code",
   "execution_count": null,
   "id": "f6dd0ca8",
   "metadata": {},
   "outputs": [],
   "source": [
    "# join planes with dataframe\n",
    "planes=planes[planes['year'].isnull()==False]\n",
    "df = df.merge(planes[['tailnum','year']],how='left',left_on='TailNum',right_on='tailnum')\n",
    "df.head()"
   ]
  },
  {
   "cell_type": "code",
   "execution_count": null,
   "id": "26347344",
   "metadata": {},
   "outputs": [],
   "source": [
    "airports = pd.read_csv(\"C:/Users/Administrator/Desktop/airports.csv\")\n",
    "airports=airports[['iata','airport','city','state','country','lat','long']].drop_duplicates().reset_index(drop=True)\n",
    "airports"
   ]
  },
  {
   "cell_type": "code",
   "execution_count": null,
   "id": "cf40846a",
   "metadata": {},
   "outputs": [],
   "source": [
    "# join airports with dataframe\n",
    "df = (df.merge(airports, left_on='Origin', right_on='iata'))\n",
    "df.head()"
   ]
  },
  {
   "cell_type": "markdown",
   "id": "d7dc3694",
   "metadata": {},
   "source": [
    "### Data Cleaning"
   ]
  },
  {
   "cell_type": "code",
   "execution_count": null,
   "id": "6fb26310",
   "metadata": {},
   "outputs": [],
   "source": [
    "main_df = df[df[\"Cancelled\"]==0]"
   ]
  },
  {
   "cell_type": "code",
   "execution_count": null,
   "id": "68e8f53b",
   "metadata": {},
   "outputs": [],
   "source": [
    "# View information about each column\n",
    "main_df.info()"
   ]
  },
  {
   "cell_type": "code",
   "execution_count": null,
   "id": "e7030412",
   "metadata": {},
   "outputs": [],
   "source": [
    "# Calculate the number of missing columns\n",
    "main_df.isnull().sum()"
   ]
  },
  {
   "cell_type": "code",
   "execution_count": null,
   "id": "6ff4bf3d",
   "metadata": {},
   "outputs": [],
   "source": [
    "main_df[main_df.isnull().values.any(axis=1)].head()"
   ]
  },
  {
   "cell_type": "code",
   "execution_count": null,
   "id": "196e7e1a",
   "metadata": {},
   "outputs": [],
   "source": [
    "main_df['If_Delayed_Dep'] = main_df['DepDelay'].apply(lambda x:x > 0)\n",
    "main_df['If_Delayed_Arr'] = main_df['ArrDelay'].apply(lambda x:x > 0)\n",
    "\n",
    "main_df=main_df[main_df['DepTime'].notna()]\n",
    "main_df=main_df[main_df['DepDelay'].notna()]\n",
    "main_df=main_df[main_df['ArrDelay'].notna()]\n",
    "# View the dimensions of the data\n",
    "main_df.shape"
   ]
  },
  {
   "cell_type": "code",
   "execution_count": null,
   "id": "8d77da95",
   "metadata": {},
   "outputs": [],
   "source": [
    "print(main_df.head())"
   ]
  },
  {
   "cell_type": "markdown",
   "id": "25e24f1b",
   "metadata": {},
   "source": [
    "## 1. The best time of day, day of the week, and time of year to fly to minimise delays"
   ]
  },
  {
   "cell_type": "markdown",
   "id": "efa3ad66",
   "metadata": {},
   "source": [
    "### 1.1 The best time of day to fly to minimise delays"
   ]
  },
  {
   "cell_type": "code",
   "execution_count": null,
   "id": "f78d595d",
   "metadata": {},
   "outputs": [],
   "source": [
    "#Screen out the data of all flights with Departure delays，i.e.DepDelay>0\n",
    "df=main_df['DepDelay']>0\n",
    "filtered_df1 = main_df[df]\n",
    "filtered_df1.head()"
   ]
  },
  {
   "cell_type": "code",
   "execution_count": null,
   "id": "a67d0e87",
   "metadata": {},
   "outputs": [],
   "source": [
    "def applyDayTime(x):\n",
    "    if len(x)==3:\n",
    "        b='0'\n",
    "        c=b+x\n",
    "        return c[:2]\n",
    "    else:\n",
    "        return x[:2]\n",
    "\n",
    "def getTimeofDay(x):\n",
    "    if int(x) <= 6:\n",
    "        return \"Early Morning\"\n",
    "    elif int(x) > 6 and int(x) <= 12:\n",
    "        return \"Late Morning\"\n",
    "    elif int(x) > 12 and int(x) <=18:\n",
    "        return \"Afternoon\"\n",
    "    elif int(x) > 18:\n",
    "        return \"Evening\""
   ]
  },
  {
   "cell_type": "code",
   "execution_count": null,
   "id": "2eef53e6",
   "metadata": {},
   "outputs": [],
   "source": [
    "filtered_df1['DepTime']=filtered_df1['DepTime'].apply(lambda x: str(int(x)))\n",
    "filtered_df1['DepTime_hour']=filtered_df1['DepTime'].apply(applyDayTime)"
   ]
  },
  {
   "cell_type": "code",
   "execution_count": null,
   "id": "10ef9713",
   "metadata": {},
   "outputs": [],
   "source": [
    "filtered_df1=filtered_df1[filtered_df1['DepTime_hour'].isin(['01','02','03','04','05','06','07','08','09','10','11',\n",
    "                                                             '12','13','14','15','16','17','18','19','20','21','22','23','24'])]"
   ]
  },
  {
   "cell_type": "code",
   "execution_count": null,
   "id": "3c702929",
   "metadata": {},
   "outputs": [],
   "source": [
    "filtered_df1['timeofDay']= filtered_df1['DepTime_hour'].apply(getTimeofDay)\n",
    "filtered_df1.head()"
   ]
  },
  {
   "cell_type": "code",
   "execution_count": null,
   "id": "eba58d89",
   "metadata": {},
   "outputs": [],
   "source": [
    "grouped_hour = filtered_df1.groupby(filtered_df1['timeofDay']) \n",
    "grouped_hour = grouped_hour[['timeofDay','If_Delayed_Dep']]\n",
    "#Sum of grouped data\n",
    "grouped_hour_sum = grouped_hour.sum()\n",
    "print(grouped_hour_sum)"
   ]
  },
  {
   "cell_type": "code",
   "execution_count": null,
   "id": "e817fc9c",
   "metadata": {},
   "outputs": [],
   "source": [
    "fig,axes = plt.subplots()\n",
    "grouped_hour_sum['If_Delayed_Dep'].plot(kind='pie',ax=axes,autopct='%.2f%%',radius=2.2,pctdistance=0.6,labeldistance=1.08,\n",
    "                            textprops={'fontsize':12, 'color':'black'},explode = (0,0.3,0,0),\n",
    "                            colors=['#FFD700','#EE4000','#9F79EE','#4876FF'],\n",
    "                            title = 'Depature Delay comparison grouped by time of day')\n",
    "#The autopct parameter specifies how to display data labels in a pie chart\n",
    "#'%.2f%%'indicates that the data label is formatted as a percentage with two decimal digits reserved\n",
    "\n",
    "#Set the aspect ratios of pie charts to be equal\n",
    "axes.set_aspect('equal')\n",
    "\n",
    "from matplotlib import rcParams\n",
    "rcParams['axes.titlepad'] = 110"
   ]
  },
  {
   "cell_type": "markdown",
   "id": "7033914b",
   "metadata": {},
   "source": [
    "### 1.2 The best day of the week to fly to minimise delays"
   ]
  },
  {
   "cell_type": "code",
   "execution_count": null,
   "id": "f1079118",
   "metadata": {},
   "outputs": [],
   "source": [
    "main_df[\"DayOfWeek\"]=main_df[\"DayOfWeek\"].map(rename_week)\n",
    "\n",
    "delayed_dayofweek = main_df[['DayOfWeek','DepDelay']].groupby('DayOfWeek').agg(['mean','count'])\n",
    "delayed_dayofweek.columns = ['mean','count']\n",
    "# SO FROM THIS Saturday has the minimun value for the delay\n",
    "delayed_dayofweek"
   ]
  },
  {
   "cell_type": "code",
   "execution_count": null,
   "id": "3da986cb",
   "metadata": {},
   "outputs": [],
   "source": [
    "import plotly.express as px\n",
    "fig = px.bar(delayed_dayofweek, x=delayed_dayofweek.index, y='mean', color='count', height=400, width=700, title=\"Delays for each day of the week\")\n",
    "fig.show()"
   ]
  },
  {
   "cell_type": "markdown",
   "id": "58474066",
   "metadata": {},
   "source": [
    "### 1.3 The best time of the year to fly to minimise delays"
   ]
  },
  {
   "cell_type": "code",
   "execution_count": null,
   "id": "2df6c726",
   "metadata": {},
   "outputs": [],
   "source": [
    "delayed_data = main_df['If_Delayed_Dep'].value_counts()"
   ]
  },
  {
   "cell_type": "code",
   "execution_count": null,
   "id": "b9fc334a",
   "metadata": {},
   "outputs": [],
   "source": [
    "#Delay ratio\n",
    "print(delayed_data[1] / (delayed_data[0] + delayed_data[1]) )"
   ]
  },
  {
   "cell_type": "code",
   "execution_count": null,
   "id": "beec82e5",
   "metadata": {},
   "outputs": [],
   "source": [
    "main_df[\"Month\"]=main_df[\"Month\"].map(rename_month)"
   ]
  },
  {
   "cell_type": "code",
   "execution_count": null,
   "id": "ca0341c8",
   "metadata": {},
   "outputs": [],
   "source": [
    "#Monthly delay, two-level index:'Month','Delayed'\n",
    "delayed_groupbymonth = main_df.groupby(['Month','If_Delayed_Dep'])\n",
    "delayed_groupbymonth=delayed_groupbymonth[['Month','DepDelay']]"
   ]
  },
  {
   "cell_type": "code",
   "execution_count": null,
   "id": "7e6a85b9",
   "metadata": {},
   "outputs": [],
   "source": [
    "#unstack\n",
    "delayed_groupbymonth = delayed_groupbymonth.size().unstack()\n",
    "print(delayed_groupbymonth)"
   ]
  },
  {
   "cell_type": "code",
   "execution_count": null,
   "id": "76b92e2d",
   "metadata": {},
   "outputs": [],
   "source": [
    "delayed_groupbymonth.plot(xlabel='Month', ylabel='Number of Delay', figsize = [10,6])"
   ]
  },
  {
   "cell_type": "code",
   "execution_count": null,
   "id": "1db70d51",
   "metadata": {},
   "outputs": [],
   "source": [
    "delayed_groupbymonth.plot(kind = 'barh',stacked = True, figsize = [10,6],colormap = 'summer')"
   ]
  },
  {
   "cell_type": "code",
   "execution_count": null,
   "id": "32b4537d",
   "metadata": {},
   "outputs": [],
   "source": [
    "# We find that September is the best month to fly which can minimise the delays\n",
    "# Let's analyse each day of September to find the best day of the year for the flight to fly to minimise delays\n",
    "df = main_df[['Year', 'Month', 'DayofMonth','If_Delayed_Dep']]\n",
    "print(df)"
   ]
  },
  {
   "cell_type": "code",
   "execution_count": null,
   "id": "948e6826",
   "metadata": {},
   "outputs": [],
   "source": [
    "plt.figure(figsize=(8, 5))\n",
    "df_September = df[(df.Month == 'September')]['DayofMonth'].value_counts()\n",
    "sns.barplot(df_September.index, df_September.values)"
   ]
  },
  {
   "cell_type": "markdown",
   "id": "7b9f4692",
   "metadata": {},
   "source": [
    "## 2. Do older planes suffer more delays?"
   ]
  },
  {
   "cell_type": "code",
   "execution_count": null,
   "id": "102ab55c",
   "metadata": {},
   "outputs": [],
   "source": [
    "planes_delays = main_df[['Year','UniqueCarrier', 'TailNum', 'year','DepDelay','If_Delayed_Dep']]\n",
    "planes_delays.head()\n",
    "\n",
    "planes_delays=planes_delays[planes_delays['year'].notna()]\n",
    "planes_delays.shape\n",
    "print(planes_delays)"
   ]
  },
  {
   "cell_type": "code",
   "execution_count": null,
   "id": "e317bb73",
   "metadata": {},
   "outputs": [],
   "source": [
    "planes_delays = planes_delays.mask(planes_delays.eq('None')).dropna()\n",
    "print(planes_delays)"
   ]
  },
  {
   "cell_type": "code",
   "execution_count": null,
   "id": "6fd15882",
   "metadata": {},
   "outputs": [],
   "source": [
    "planes_delays.isnull().sum()"
   ]
  },
  {
   "cell_type": "code",
   "execution_count": null,
   "id": "accd976c",
   "metadata": {},
   "outputs": [],
   "source": [
    "planes_delays.info()"
   ]
  },
  {
   "cell_type": "code",
   "execution_count": null,
   "id": "ea8935e8",
   "metadata": {},
   "outputs": [],
   "source": [
    "planes_delays[\"year\"] = planes_delays[\"year\"].astype(str).astype(int)\n",
    "print(planes_delays.dtypes)"
   ]
  },
  {
   "cell_type": "code",
   "execution_count": null,
   "id": "6c6bf5ef",
   "metadata": {},
   "outputs": [],
   "source": [
    "planes_delays[\"age\"] = planes_delays[\"Year\"] - planes_delays[\"year\"]\n",
    "print(planes_delays)"
   ]
  },
  {
   "cell_type": "code",
   "execution_count": null,
   "id": "e32932fb",
   "metadata": {},
   "outputs": [],
   "source": [
    "planes_delays = planes_delays[~(planes_delays['age'].isin([2003,2004,-4,-3]))]"
   ]
  },
  {
   "cell_type": "code",
   "execution_count": null,
   "id": "3d1fc304",
   "metadata": {},
   "outputs": [],
   "source": [
    "planes_delays = planes_delays[['age','DepDelay']].groupby('age').agg(['mean','count'])\n",
    "planes_delays.columns = ['mean','count']\n",
    "print(planes_delays)"
   ]
  },
  {
   "cell_type": "code",
   "execution_count": null,
   "id": "93d76e9c",
   "metadata": {},
   "outputs": [],
   "source": [
    "plt.figure(figsize=(15, 4))\n",
    "age = sns.lineplot(x=\"age\", y=\"mean\", data=planes_delays)\n",
    "plt.xticks([0,2,4,6,8,10,12,14,16,18,20,22,24,26,28,30,32,34,36,38,40,42,44,46,48])\n",
    "age.set_title(\"Trend in flight delays with flights age increase\",fontsize = 20,pad=20)\n",
    "age.set_xlabel(\"Flight Age\", fontsize = 15)\n",
    "age.set_ylabel(\"Mean of the DepDelay\", fontsize = 15)\n",
    "#Planes delay is same for older and newer planes"
   ]
  },
  {
   "cell_type": "markdown",
   "id": "a1ae634b",
   "metadata": {},
   "source": [
    "## 3. How does the number of people flying between different locations change over time?"
   ]
  },
  {
   "cell_type": "code",
   "execution_count": null,
   "id": "3dd75d10",
   "metadata": {},
   "outputs": [],
   "source": [
    "#If you run the Q1 code, you need to run the below code to rename the month and week.\n",
    "week_dict1= {'Monday':1,'Tuesday':2,'Wednesday':3,'Thursday':4,'Friday':5,'Saturday':6,'Sunday':7}\n",
    "main_df[\"DayOfWeek\"]=main_df[\"DayOfWeek\"].map(week_dict1)\n",
    "\n",
    "month_dict1= {\"January\":1,\"February\":2,\"March\":3,\"April\":4,\"May\":5,\"June\":6,\"July\":7,\"August\":8,\"September\":9,\"October\":10,\"November\":11,\"December\":12}\n",
    "main_df[\"Month\"]=main_df[\"Month\"].map(month_dict1)"
   ]
  },
  {
   "cell_type": "code",
   "execution_count": null,
   "id": "60ad8c86",
   "metadata": {},
   "outputs": [],
   "source": [
    "loc_df = main_df[~(main_df['CancellationCode'].isin([1]))]\n",
    "loc_df = loc_df[~(loc_df['Diverted'].isin([1]))]"
   ]
  },
  {
   "cell_type": "code",
   "execution_count": null,
   "id": "17695e08",
   "metadata": {},
   "outputs": [],
   "source": [
    "loc_df=loc_df.groupby(['Year','Month','DayOfWeek','Origin','Dest','DepTime']).size().to_frame('flights').reset_index()\n",
    "loc_df.head()"
   ]
  },
  {
   "cell_type": "code",
   "execution_count": null,
   "id": "4f0a8265",
   "metadata": {},
   "outputs": [],
   "source": [
    "dest_orig_year=loc_df[['Year','Origin','Dest','flights']].groupby(['Year','Origin','Dest']).sum()\n",
    "dest_orig_year"
   ]
  },
  {
   "cell_type": "code",
   "execution_count": null,
   "id": "8fcc2190",
   "metadata": {},
   "outputs": [],
   "source": [
    "dest_orig_week=loc_df[['DayOfWeek','Origin','Dest','flights']].groupby(['DayOfWeek','Origin','Dest']).sum()\n",
    "dest_orig_week"
   ]
  },
  {
   "cell_type": "code",
   "execution_count": null,
   "id": "1607e58e",
   "metadata": {},
   "outputs": [],
   "source": [
    "loc_rank2003=dest_orig_year.groupby(['Year','Origin','Dest']).size().to_frame('flights').reset_index()\n",
    "loc_rank2003.head()"
   ]
  },
  {
   "cell_type": "code",
   "execution_count": null,
   "id": "4aefdc18",
   "metadata": {},
   "outputs": [],
   "source": [
    "dest_orig_week=loc_df[['DayOfWeek','Origin','Dest','flights']].groupby(['DayOfWeek','Origin','Dest']).sum()\n",
    "dest_orig_week"
   ]
  },
  {
   "cell_type": "markdown",
   "id": "fff3bb2d",
   "metadata": {},
   "source": [
    "## 4. Can you detect cascading failures as delays in one airport create delays in others?"
   ]
  },
  {
   "cell_type": "code",
   "execution_count": null,
   "id": "73ac399a",
   "metadata": {},
   "outputs": [],
   "source": [
    "caf = main_df[['airport', 'Origin', 'Dest','UniqueCarrier','TailNum','LateAircraftDelay','Year','Month','DayofMonth',\n",
    "               'DayOfWeek','DepTime','DepDelay','ArrTime','ArrDelay','city','state','country','lat','long']]\n",
    "\n",
    "caf = caf[~(caf['LateAircraftDelay'].isin([0]))]\n",
    "caf = caf[~(caf['TailNum'].isin([0]))]\n",
    "caf = caf.mask(caf.eq('None')).dropna()"
   ]
  },
  {
   "cell_type": "code",
   "execution_count": null,
   "id": "041f1c02",
   "metadata": {},
   "outputs": [],
   "source": [
    "caf_count=caf.groupby(['airport']).agg({\"TailNum\":\"count\",\n",
    "                            \"DepDelay\":[\"mean\",\"std\"],\n",
    "                            \"LateAircraftDelay\":[\"mean\",\"std\"],\n",
    "                            }).reset_index()\n",
    "caf_count"
   ]
  },
  {
   "cell_type": "code",
   "execution_count": null,
   "id": "0b801f67",
   "metadata": {},
   "outputs": [],
   "source": [
    "caf_df_map = caf.loc[(caf['Year'] == 2003) & (caf['Month'] == 12) & (caf['DayofMonth'] == 12)]\n",
    "#caf_df"
   ]
  },
  {
   "cell_type": "code",
   "execution_count": null,
   "id": "3111cea1",
   "metadata": {},
   "outputs": [],
   "source": [
    "import plotly.graph_objects as go\n",
    "\n",
    "import pandas as pd\n",
    "\n",
    "fig = go.Figure(data=go.Scattergeo(\n",
    "        lon = caf_df_map['long'],\n",
    "        lat = caf_df_map['lat'],\n",
    "        #text = caf_df_map['text'],\n",
    "        mode = 'markers',\n",
    "        marker_color = caf_df_map['LateAircraftDelay'],\n",
    "        ))\n",
    "\n",
    "fig.update_layout(\n",
    "        title = 'US airports that affected by the Late Aircraft delay on 12 December, 2003',\n",
    "        geo_scope='usa',\n",
    "    )\n",
    "fig.show()"
   ]
  },
  {
   "cell_type": "code",
   "execution_count": null,
   "id": "48537e65",
   "metadata": {},
   "outputs": [],
   "source": [
    "# Let's take flight with TailNum 'N612MQ' as an example\n",
    "caf_df = caf_df_map.loc[caf_df_map['TailNum'] == 'N612MQ']\n",
    "caf_df = caf_df.sort_values(by=['DepTime'],ascending=[True])\n",
    "caf_df"
   ]
  },
  {
   "cell_type": "code",
   "execution_count": null,
   "id": "bc9f537f",
   "metadata": {},
   "outputs": [],
   "source": []
  },
  {
   "cell_type": "markdown",
   "id": "50869660",
   "metadata": {},
   "source": [
    "## 5. Create a model to predict the delays"
   ]
  },
  {
   "cell_type": "markdown",
   "id": "cc1716e0",
   "metadata": {},
   "source": [
    "### 5.1 Linear Regression Model"
   ]
  },
  {
   "cell_type": "code",
   "execution_count": null,
   "id": "0031cee2",
   "metadata": {},
   "outputs": [],
   "source": [
    "percent_missing=(main_df.isna().mean() *100)\n",
    "\n",
    "missing_value_df = pd.DataFrame({'column_name': main_df.columns,'percent_missing': percent_missing})\n",
    "cols_to_drop=missing_value_df[missing_value_df['percent_missing']>20]['column_name'] .tolist()\n",
    "cols_to_drop                    "
   ]
  },
  {
   "cell_type": "code",
   "execution_count": null,
   "id": "032a9203",
   "metadata": {},
   "outputs": [],
   "source": [
    "main_df=main_df.drop(cols_to_drop,axis=1)\n",
    "main_df=main_df.dropna()\n",
    "main_df.head()"
   ]
  },
  {
   "cell_type": "code",
   "execution_count": null,
   "id": "0f8d05d5",
   "metadata": {},
   "outputs": [],
   "source": [
    "main_df['totalDelay']=main_df['DepDelay']+main_df['ArrDelay']"
   ]
  },
  {
   "cell_type": "code",
   "execution_count": null,
   "id": "74d72a6c",
   "metadata": {},
   "outputs": [],
   "source": [
    "lbl=LabelEncoder()\n",
    "main_df['UniqueCarrier']=lbl.fit_transform(main_df['UniqueCarrier'])\n",
    "main_df['DayOfWeek']=lbl.fit_transform(main_df['DayOfWeek'])"
   ]
  },
  {
   "cell_type": "code",
   "execution_count": null,
   "id": "f494d004",
   "metadata": {},
   "outputs": [],
   "source": [
    "Features=['UniqueCarrier','Diverted','CarrierDelay','WeatherDelay',\n",
    "'NASDelay','SecurityDelay','LateAircraftDelay','Month','DayOfWeek']\n",
    "target=['totalDelay']\n",
    "X = main_df[Features]\n",
    "y =main_df[target]"
   ]
  },
  {
   "cell_type": "code",
   "execution_count": null,
   "id": "c1cdfff7",
   "metadata": {},
   "outputs": [],
   "source": [
    "#Divide data into train and test split\n",
    "X_train, X_test, y_train, y_test = train_test_split(\n",
    "    X, y, test_size=0.30, random_state=101)"
   ]
  },
  {
   "cell_type": "code",
   "execution_count": null,
   "id": "8b432a31",
   "metadata": {},
   "outputs": [],
   "source": [
    "from sklearn.linear_model import LinearRegression\n",
    "\n",
    "lm=LinearRegression()\n",
    "lm.fit(X_train,y_train)"
   ]
  },
  {
   "cell_type": "code",
   "execution_count": null,
   "id": "2be6c62e",
   "metadata": {},
   "outputs": [],
   "source": [
    "y_pred=lm.predict(X_test)\n",
    "print('Accuracy on test set is', round(metrics.r2_score(y_test,y_pred),2))   "
   ]
  },
  {
   "cell_type": "markdown",
   "id": "241bb713",
   "metadata": {},
   "source": [
    "### 5.2 Random Forest Model"
   ]
  },
  {
   "cell_type": "code",
   "execution_count": null,
   "id": "f95c0506",
   "metadata": {},
   "outputs": [],
   "source": [
    "#Replace NaN with 0\n",
    "main_df=main_df.drop(cols_to_drop,axis=1)\n",
    "main_df=main_df.dropna()\n",
    "main_df.head()"
   ]
  },
  {
   "cell_type": "code",
   "execution_count": null,
   "id": "01ceea2c",
   "metadata": {},
   "outputs": [],
   "source": [
    "main_df['CRSDepTime']=main_df['CRSDepTime'].apply(lambda x: str(int(x)))\n",
    "main_df['CRSDepTime_hour']=main_df['CRSDepTime'].apply(applyDayTime)\n",
    "main_df=main_df[main_df['CRSDepTime_hour'].isin(['01','02','03','04','05','06',\n",
    "                                                '07','08','09','10','11','12',\n",
    "                                                '13','14','15','16','17','18'\n",
    "                                                '19','20','21','22','23','24'])]"
   ]
  },
  {
   "cell_type": "code",
   "execution_count": null,
   "id": "a87bfce8",
   "metadata": {},
   "outputs": [],
   "source": [
    "main_df['DepTime']=main_df['DepTime'].apply(lambda x: str(int(x)))\n",
    "main_df['DepTime_hour']=main_df['DepTime'].apply(applyDayTime)\n",
    "main_df=main_df[main_df['DepTime_hour'].isin(['01','02','03','04','05','06',\n",
    "                                                '07','08','09','10','11','12',\n",
    "                                                '13','14','15','16','17','18'\n",
    "                                                '19','20','21','22','23','24'])]"
   ]
  },
  {
   "cell_type": "code",
   "execution_count": null,
   "id": "c621902f",
   "metadata": {},
   "outputs": [],
   "source": [
    "main_df = main_df[['Year','Month','DayofMonth','DayOfWeek','DepTime_hour','CRSDepTime_hour','ArrTime','ArrDelay','DepDelay',\n",
    "                       'Origin','Dest','Cancelled','Diverted','CarrierDelay','WeatherDelay','NASDelay','SecurityDelay',\n",
    "                        'LateAircraftDelay','If_Delayed_Arr','If_Delayed_Dep']]\n",
    "main_df.head()"
   ]
  },
  {
   "cell_type": "code",
   "execution_count": null,
   "id": "2976df36",
   "metadata": {},
   "outputs": [],
   "source": [
    "main_df = pd.get_dummies(main_df, columns=['Origin', 'Dest'])\n",
    "main_df.head()"
   ]
  },
  {
   "cell_type": "code",
   "execution_count": null,
   "id": "cfc00a9d",
   "metadata": {},
   "outputs": [],
   "source": [
    "train_x, test_x, train_y, test_y = train_test_split(main_df.drop('If_Delayed_Arr', axis=1), main_df['If_Delayed_Arr'],\n",
    "                                                    test_size=0.2, random_state=42)"
   ]
  },
  {
   "cell_type": "code",
   "execution_count": null,
   "id": "2d8fda71",
   "metadata": {},
   "outputs": [],
   "source": [
    "test_x.shape"
   ]
  },
  {
   "cell_type": "code",
   "execution_count": null,
   "id": "67d04a41",
   "metadata": {},
   "outputs": [],
   "source": [
    "model = RandomForestClassifier(random_state=13)\n",
    "model.fit(train_x, train_y)"
   ]
  },
  {
   "cell_type": "code",
   "execution_count": null,
   "id": "a06c5242",
   "metadata": {},
   "outputs": [],
   "source": [
    "predicted = model.predict(test_x)\n",
    "model.score(test_x, test_y)"
   ]
  },
  {
   "cell_type": "code",
   "execution_count": null,
   "id": "e8294a86",
   "metadata": {},
   "outputs": [],
   "source": [
    "roc_auc_score(test_y, probabilities[:, 1])"
   ]
  },
  {
   "cell_type": "code",
   "execution_count": null,
   "id": "85d02258",
   "metadata": {},
   "outputs": [],
   "source": [
    "confusion_matrix(test_y, predicted)"
   ]
  },
  {
   "cell_type": "code",
   "execution_count": null,
   "id": "8baa688e",
   "metadata": {},
   "outputs": [],
   "source": [
    "train_predictions = model.predict(train_x)\n",
    "precision_score(train_y, train_predictions)"
   ]
  },
  {
   "cell_type": "code",
   "execution_count": null,
   "id": "1814adee",
   "metadata": {},
   "outputs": [],
   "source": [
    "recall_score(train_y, train_predictions)"
   ]
  },
  {
   "cell_type": "code",
   "execution_count": null,
   "id": "b7ec8ff0",
   "metadata": {},
   "outputs": [],
   "source": [
    "%matplotlib inline\n",
    " \n",
    "sns.set()"
   ]
  },
  {
   "cell_type": "code",
   "execution_count": null,
   "id": "18d389e4",
   "metadata": {},
   "outputs": [],
   "source": [
    "fpr, tpr, _ = roc_curve(test_y, probabilities[:, 1])\n",
    "plt.plot(fpr, tpr)\n",
    "plt.plot([0, 1], [0, 1], color='grey', lw=1, linestyle='--')\n",
    "plt.xlabel('False Positive Rate')\n",
    "plt.ylabel('True Positive Rate')"
   ]
  },
  {
   "cell_type": "code",
   "execution_count": null,
   "id": "413d283c",
   "metadata": {},
   "outputs": [],
   "source": []
  }
 ],
 "metadata": {
  "kernelspec": {
   "display_name": "Python 3",
   "language": "python",
   "name": "python3"
  },
  "language_info": {
   "codemirror_mode": {
    "name": "ipython",
    "version": 3
   },
   "file_extension": ".py",
   "mimetype": "text/x-python",
   "name": "python",
   "nbconvert_exporter": "python",
   "pygments_lexer": "ipython3",
   "version": "3.8.8"
  }
 },
 "nbformat": 4,
 "nbformat_minor": 5
}
